{
 "cells": [
  {
   "cell_type": "code",
   "execution_count": 1,
   "id": "231cace7-165e-4f1a-9db8-600f39400f5a",
   "metadata": {
    "tags": []
   },
   "outputs": [],
   "source": [
    "import logging\n",
    "import os\n",
    "log_file = os.path.normpath(\"C:/Temp/bcu/log/import-eprints-dump.log\")\n",
    "file_mode = 'w'\n",
    "logging.basicConfig(filename=log_file, filemode=file_mode, level=logging.INFO, format='%(asctime)s %(levelname)s : %(message)s')"
   ]
  },
  {
   "cell_type": "code",
   "execution_count": 2,
   "id": "2e800004-3993-44ac-9e5d-62fccf1f65d7",
   "metadata": {
    "tags": []
   },
   "outputs": [],
   "source": [
    "# Load XML file\n",
    "dump_file = os.path.normpath('C:/Temp/bcu/export_bcu_records.xml')"
   ]
  },
  {
   "cell_type": "code",
   "execution_count": 3,
   "id": "d7c1f397-350f-40be-a391-5888fac34f6d",
   "metadata": {},
   "outputs": [],
   "source": [
    "PRETTY_PRINT = False\n",
    "NSMAP = {'ep': 'http://eprints.org/ep2/data/2.0'}"
   ]
  },
  {
   "cell_type": "code",
   "execution_count": 4,
   "id": "3ac162c3-578c-4f8e-b160-b7c0e9e314fb",
   "metadata": {},
   "outputs": [],
   "source": [
    "from lxml import etree as et\n",
    "import json, psycopg2\n",
    "conn = psycopg2.connect(host=\"localhost\", port=5432, database=\"BCU\", user=\"postgres\", password=\"admin\")\n",
    "insert_sql = 'insert into items(id, type, xml_in) values(%s, %s, %s) on conflict(id) do update set type = excluded.type, xml_in = excluded.xml_in, xml_out = null'\n",
    "conn.autocommit = True\n",
    "cur = conn.cursor()\n",
    "# Remove white space from XML nodes to make parsing work better in transformation\n",
    "parser = et.XMLParser(remove_blank_text=True)\n",
    "root = et.parse(dump_file, parser)\n",
    "items = root.xpath('//ep:eprint', namespaces=NSMAP)\n",
    "logging.info('Processing {} publications'.format(len(items)))\n",
    "with conn:\n",
    "    for item in items:\n",
    "        xml_in = et.tostring(item, pretty_print=PRETTY_PRINT, encoding=\"UTF-8\").decode(\"UTF-8\")\n",
    "        item_id = item.find('ep:eprintid', namespaces=NSMAP).text\n",
    "        content_type = item.find('ep:type', namespaces=NSMAP).text\n",
    "        logging.info('Processing publication {}'.format(item_id))\n",
    "        cur.execute(insert_sql, (item_id, content_type, xml_in))\n",
    "conn.close()\n",
    "logging.info('Stored all publications')"
   ]
  },
  {
   "cell_type": "code",
   "execution_count": null,
   "id": "40ea1b5d-6c84-46bc-9ed0-5215cdeeee50",
   "metadata": {},
   "outputs": [],
   "source": []
  }
 ],
 "metadata": {
  "kernelspec": {
   "display_name": "Python 3 (ipykernel)",
   "language": "python",
   "name": "python3"
  },
  "language_info": {
   "codemirror_mode": {
    "name": "ipython",
    "version": 3
   },
   "file_extension": ".py",
   "mimetype": "text/x-python",
   "name": "python",
   "nbconvert_exporter": "python",
   "pygments_lexer": "ipython3",
   "version": "3.9.13"
  }
 },
 "nbformat": 4,
 "nbformat_minor": 5
}
