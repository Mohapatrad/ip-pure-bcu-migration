{
 "cells": [
  {
   "cell_type": "code",
   "execution_count": 1,
   "id": "df7ca0cb-6d96-4a19-a495-bdb19a19e986",
   "metadata": {
    "tags": []
   },
   "outputs": [],
   "source": [
    "import logging, os\n",
    "\n",
    "env = \"test\"\n",
    "log_file = os.path.normpath(\"C:/Temp/bcu/log/get-persons-{}.log\".format(env))\n",
    "file_mode = 'w'\n",
    "logging.basicConfig(filename=log_file, filemode=file_mode, level=logging.INFO, format='%(asctime)s %(levelname)s : %(message)s')"
   ]
  },
  {
   "cell_type": "code",
   "execution_count": 2,
   "id": "a9beb29d-f6f2-43df-9051-e362a39b73b5",
   "metadata": {},
   "outputs": [],
   "source": [
    "def get_associations(affiliations, une_id, staff, ass_type):\n",
    "    for une_id in une_ids:\n",
    "        for aff in staff:\n",
    "            assoc = dict()\n",
    "            assoc['une_id'] = une_id\n",
    "            assoc['org_id'] = aff['organization']['uuid']\n",
    "            assoc['type'] = ass_type\n",
    "            if aff.get('period'):\n",
    "                assoc['start_date'] = aff.get('period').get('startDate')\n",
    "                assoc['end_date'] = aff.get('period').get('end_date')\n",
    "            assoc['primary'] = aff['primaryAssociation']\n",
    "            affiliations.append(assoc)"
   ]
  },
  {
   "cell_type": "code",
   "execution_count": 3,
   "id": "78f715df-c4cf-4bef-9f95-7bea4d466783",
   "metadata": {
    "tags": []
   },
   "outputs": [],
   "source": [
    "import requests, json, psycopg2\n",
    "\n",
    "test_key = os.path.normpath('C:/Users/MohapatraD/.secrets/BCU/pure-apikey-staging.txt')\n",
    "#prod_key = os.path.normpath('C:/Users/MohapatraD/.secrets/BCU/pure-apikey-prod.txt')\n",
    "test_url = \"https://cristest.bcu.ac.uk/ws/api\"\n",
    "#prod_url = \"https://pure.bcu.ac.uk/ws/api\"\n",
    "\n",
    "\n",
    "if env == \"prod\":\n",
    "    url = prod_url\n",
    "    key= prod_key\n",
    "else:\n",
    "    url = test_url\n",
    "    key= test_key\n",
    "\n",
    "logging.info(\"Processing data in {}\".format(env))\n",
    "\n",
    "with open(key, 'r') as keyfile:\n",
    "    api_key = keyfile.read().rstrip()\n",
    "    \n",
    "\n",
    "headers = {'api-key': api_key}\n",
    "\n",
    "PAGE_SIZE  = 150\n",
    "START_FROM = 0\n",
    "\n",
    "# Iterate through all items to collect UUIDs\n",
    "\n",
    "processed = 0\n",
    "offset = START_FROM\n",
    "conn = psycopg2.connect(host=\"localhost\", port=5432, database=\"BCU\", user=\"postgres\", password=\"admin\")\n",
    "sql = \"insert into persons(id, body) values (%s, %s::jsonb) on conflict(id) do update set body = excluded.body\"\n",
    "cur = conn.cursor()\n",
    "loop = True\n",
    "while loop:\n",
    "    params = {'offset': offset, 'size': PAGE_SIZE}\n",
    "    logging.info('Collecting persons {} - {} '.format(offset, (offset + PAGE_SIZE - 1)))\n",
    "    resp = requests.get('{}/persons'.format(url), headers = headers, params = params)\n",
    "    resp.raise_for_status()\n",
    "    content = resp.json()\n",
    "    count = content['count']\n",
    "    logging.info('Total number of persons: {}'.format(count))\n",
    "    items = content['items']\n",
    "    logging.info('Persons in this response: {}'.format(len(items)))\n",
    "    for item in items:\n",
    "        id = item['pureId']\n",
    "        cur.execute(sql, (id, json.dumps(item)))\n",
    "        conn.commit()\n",
    "    offset += PAGE_SIZE\n",
    "    if offset > count:\n",
    "        loop = False\n",
    "cur.close()\n",
    "conn.close()\n",
    "logging.info('All persons collected')"
   ]
  }
 ],
 "metadata": {
  "kernelspec": {
   "display_name": "Python 3 (ipykernel)",
   "language": "python",
   "name": "python3"
  },
  "language_info": {
   "codemirror_mode": {
    "name": "ipython",
    "version": 3
   },
   "file_extension": ".py",
   "mimetype": "text/x-python",
   "name": "python",
   "nbconvert_exporter": "python",
   "pygments_lexer": "ipython3",
   "version": "3.9.13"
  }
 },
 "nbformat": 4,
 "nbformat_minor": 5
}
