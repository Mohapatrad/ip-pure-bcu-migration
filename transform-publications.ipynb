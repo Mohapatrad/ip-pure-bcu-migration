{
 "cells": [
  {
   "cell_type": "code",
   "execution_count": 1,
   "id": "af0ef921-0cd9-4bfd-b858-4bd039ec2ff3",
   "metadata": {},
   "outputs": [],
   "source": [
    "import os\n",
    "out_dir = 'C:/temp/bcu/out'\n",
    "out_file_name = 'bcu-theses-out.xml'\n",
    "out_file = os.path.normpath('{}/{}'.format(out_dir, out_file_name))\n",
    "\n",
    "log_dir = 'C:/temp/bcu/log'\n",
    "log_file = 'bcu-transform-theses.log'"
   ]
  },
  {
   "cell_type": "code",
   "execution_count": 2,
   "id": "883ead07-8db8-4e0e-b3aa-49c69f65167a",
   "metadata": {},
   "outputs": [],
   "source": [
    "import logging\n",
    "log_file = os.path.join(log_dir, log_file)\n",
    "file_mode = 'w'\n",
    "logging_level = logging.DEBUG\n",
    "logging.basicConfig(filename=log_file, filemode=file_mode, level=logging_level, format='%(asctime)s %(levelname)s : %(message)s')\n",
    "PRINT_STACKTRACE = True"
   ]
  },
  {
   "cell_type": "code",
   "execution_count": 3,
   "id": "0959e768-4b9f-4c43-9fb0-6aa58504c9d4",
   "metadata": {},
   "outputs": [],
   "source": [
    "# Credentials to download file from eprints\n",
    "eprints_creds_file = os.path.normpath('C:/Users/MohapatraD/.secrets/BCU/eprints-credentials.txt')\n",
    "\n",
    "with open(eprints_creds_file, 'r') as ecf:\n",
    "    EPRINTS_CREDS = ecf.read().rstrip()"
   ]
  },
  {
   "cell_type": "code",
   "execution_count": 4,
   "id": "4748b75e-1aef-43a5-afd8-25662e5ee1ca",
   "metadata": {},
   "outputs": [],
   "source": [
    "#%run ./mapping_functions.ipynb"
   ]
  },
  {
   "cell_type": "code",
   "execution_count": 5,
   "id": "99a8ebcd-6cf2-475b-89eb-2a46c96fd2bf",
   "metadata": {},
   "outputs": [],
   "source": [
    "%run ./Mapping_student_thesis.ipynb"
   ]
  },
  {
   "cell_type": "code",
   "execution_count": 6,
   "id": "e68977d5-2f42-446e-990c-373e36e4c88f",
   "metadata": {},
   "outputs": [],
   "source": [
    "#%run ./Mapping_dataset.ipynb"
   ]
  },
  {
   "cell_type": "code",
   "execution_count": 7,
   "id": "775d8491-09a3-494f-ba4f-1b37cb571986",
   "metadata": {},
   "outputs": [],
   "source": [
    "DATABASE = 'BCU'\n",
    "DB_USER = 'postgres'\n",
    "DB_PASSWORD = 'admin'\n",
    "\n",
    "import psycopg2\n",
    "conn = psycopg2.connect(host=\"localhost\", port=\"5432\", database=DATABASE, user=DB_USER, password=DB_PASSWORD)\n",
    "conn.autocommit = True\n",
    "sql = \"select id, type, xml_in from items where xml_out is null and type in ('thesis')\"\n",
    "sql2 = 'update items set xml_out = %s where id = %s'\n",
    "with conn:\n",
    "    cur = conn.cursor()\n",
    "    cur.execute(sql)\n",
    "    rows = cur.fetchall()\n",
    "    logging.info('Loaded all publications from the database')\n",
    "    for row in rows:\n",
    "        id = row[0]\n",
    "        content_type = row[1]\n",
    "        xml_in = row[2]\n",
    "        logging.info('Transforming item {} of type {}'.format(id, content_type))\n",
    "        try:\n",
    "            xml_out = map(id, content_type, xml_in)\n",
    "            cur.execute(sql2, (xml_out, id))\n",
    "        except Exception as e:\n",
    "            if PRINT_STACKTRACE:\n",
    "                logging.exception('Error transforming publication {} - {}'.format(id, repr(e)))\n",
    "            else:\n",
    "                logging.error('Error transforming publication {} - {}'.format(id, repr(e)))\n",
    "conn.close() \n",
    "logging.info('All items processed')"
   ]
  },
  {
   "cell_type": "code",
   "execution_count": 8,
   "id": "3d575796-a696-443b-927b-135c25346d29",
   "metadata": {},
   "outputs": [],
   "source": [
    "conn = psycopg2.connect(host=\"localhost\", port=\"5432\", database=DATABASE, user=DB_USER, password=DB_PASSWORD)\n",
    "# Collect all results\n",
    "with open(out_file, 'w', encoding='utf-8') as out:\n",
    "    out.write('{}\\n'.format(XML_HEADER))\n",
    "    cur = conn.cursor()\n",
    "    cur.execute(\"select xml_out from items where xml_out is not null\")\n",
    "    rows = cur.fetchall()\n",
    "    for row in rows:\n",
    "        out.write('{}\\n'.format(row[0]))\n",
    "    out.write(XML_FOOTER)\n",
    "    logging.info('XML import file saved at \"{}\"'.format(out_file))\n",
    "    cur.close()"
   ]
  },
  {
   "cell_type": "code",
   "execution_count": null,
   "id": "d1d8bb08-e845-48e3-814d-a47d7a3d5045",
   "metadata": {},
   "outputs": [],
   "source": []
  }
 ],
 "metadata": {
  "kernelspec": {
   "display_name": "Python 3 (ipykernel)",
   "language": "python",
   "name": "python3"
  },
  "language_info": {
   "codemirror_mode": {
    "name": "ipython",
    "version": 3
   },
   "file_extension": ".py",
   "mimetype": "text/x-python",
   "name": "python",
   "nbconvert_exporter": "python",
   "pygments_lexer": "ipython3",
   "version": "3.9.13"
  }
 },
 "nbformat": 4,
 "nbformat_minor": 5
}
